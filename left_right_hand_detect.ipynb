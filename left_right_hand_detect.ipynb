{
 "cells": [
  {
   "cell_type": "markdown",
   "metadata": {},
   "source": [
    "# Left / Right hand detection\n",
    "\n",
    "Sometimes the detection is wrong\n",
    "It mixes up left / right hand"
   ]
  },
  {
   "cell_type": "code",
   "execution_count": 24,
   "metadata": {},
   "outputs": [],
   "source": [
    "import cv2\n",
    "import mediapipe as mp\n",
    "import numpy as np\n",
    "\n",
    "from util.utils import detectHands"
   ]
  },
  {
   "cell_type": "code",
   "execution_count": 3,
   "metadata": {},
   "outputs": [],
   "source": [
    "# Order: Blue, Green, Red\n",
    "DOT_COLOR = (0, 0, 255)\n",
    "CONNECTION_COLOR = (0, 255, 0)\n",
    "\n",
    "TEXT_COLOR = (255, 255, 255)\n",
    "\n",
    "EXIT_KEY = 'q'"
   ]
  },
  {
   "cell_type": "code",
   "execution_count": 25,
   "metadata": {},
   "outputs": [],
   "source": [
    "def getLabel(loopIndex, hand, results, width, height):\n",
    "    WRIST = 0\n",
    "    output = None\n",
    "\n",
    "    for classification in results.multi_handedness:\n",
    "        clf = classification.classification[0]\n",
    "        if (clf.index == loopIndex):\n",
    "            label = clf.label\n",
    "            score = clf.score\n",
    "\n",
    "            text = f'{label}: {score:.2f}'\n",
    "\n",
    "            lm = hand.landmark\n",
    "            coords = np.multiply(\n",
    "                np.array((lm[WRIST].x, lm[WRIST].y)), [width, height]\n",
    "            ).astype(int)\n",
    "\n",
    "            coords = tuple(coords)\n",
    "\n",
    "            output = [text, coords]\n",
    "            break\n",
    "    \n",
    "    return output"
   ]
  },
  {
   "cell_type": "code",
   "execution_count": 26,
   "metadata": {},
   "outputs": [],
   "source": [
    "mpDrawing = mp.solutions.drawing_utils\n",
    "mpHands = mp.solutions.hands\n",
    "\n",
    "cap = cv2.VideoCapture(0)\n",
    "\n",
    "with mpHands.Hands(min_detection_confidence=0.8, min_tracking_confidence=0.5, max_num_hands=2) as hands:\n",
    "\n",
    "    while (cap.isOpened()):\n",
    "        success, frame = cap.read()\n",
    "\n",
    "        # Camera's width & height\n",
    "        width  = int(cap.get(3))\n",
    "        height = int(cap.get(4))\n",
    "\n",
    "        # Flip the frame horizontally\n",
    "        frame = cv2.flip(frame, 1)\n",
    "        \n",
    "        image, results = detectHands(hands, frame)\n",
    "\n",
    "        landmarks = results.multi_hand_landmarks\n",
    "        if (landmarks):\n",
    "            for index, hand in enumerate(landmarks):\n",
    "                # Draws the detection on the image\n",
    "                mpDrawing.draw_landmarks(\n",
    "                    image, hand, mpHands.HAND_CONNECTIONS,\n",
    "                    mpDrawing.DrawingSpec(color=DOT_COLOR, thickness=2, circle_radius=4),\n",
    "                    mpDrawing.DrawingSpec(color=CONNECTION_COLOR, thickness=2, circle_radius=2)\n",
    "                )\n",
    "\n",
    "                label = getLabel(index, hand, results, width, height)\n",
    "                if (label):\n",
    "                    text = label[0]\n",
    "                    coords = label[1]\n",
    "\n",
    "                    cv2.putText(image, text, coords, cv2.FONT_HERSHEY_SIMPLEX, 1, TEXT_COLOR, 2, cv2.LINE_AA)\n",
    "                    \n",
    "\n",
    "        cv2.imshow('Left / Right hand detection', image)\n",
    "\n",
    "        # Exit if user pressed 'q'\n",
    "        if (cv2.waitKey(10) & 0xFF == ord(EXIT_KEY)):\n",
    "            break\n",
    "\n",
    "cap.release()\n",
    "cv2.destroyAllWindows()"
   ]
  },
  {
   "cell_type": "code",
   "execution_count": 20,
   "metadata": {},
   "outputs": [
    {
     "data": {
      "text/plain": [
       "2"
      ]
     },
     "execution_count": 20,
     "metadata": {},
     "output_type": "execute_result"
    }
   ],
   "source": [
    "# How many hands were found in the last frame\n",
    "len(results.multi_hand_landmarks)"
   ]
  },
  {
   "cell_type": "code",
   "execution_count": 23,
   "metadata": {},
   "outputs": [
    {
     "name": "stdout",
     "output_type": "stream",
     "text": [
      "classification {\n",
      "  index: 0\n",
      "  score: 0.9854701161384583\n",
      "  label: \"Left\"\n",
      "}\n",
      "\n",
      "classification {\n",
      "  index: 1\n",
      "  score: 0.9234537482261658\n",
      "  label: \"Right\"\n",
      "}\n",
      "\n"
     ]
    }
   ],
   "source": [
    "print(results.multi_handedness[0])\n",
    "print(results.multi_handedness[1])"
   ]
  },
  {
   "cell_type": "code",
   "execution_count": 28,
   "metadata": {},
   "outputs": [
    {
     "name": "stdout",
     "output_type": "stream",
     "text": [
      "index: 0\n",
      "score: 0.9854701161384583\n",
      "label: \"Left\"\n",
      "\n",
      "0\n"
     ]
    }
   ],
   "source": [
    "print(results.multi_handedness[0].classification[0])\n",
    "\n",
    "print(results.multi_handedness[0].classification[0].index)"
   ]
  }
 ],
 "metadata": {
  "interpreter": {
   "hash": "9164a3399a70d355c381b62813f30880ed90ca5a6f321bf0d85375640bda7ee5"
  },
  "kernelspec": {
   "display_name": "Python 3.7.7 64-bit",
   "language": "python",
   "name": "python3"
  },
  "language_info": {
   "codemirror_mode": {
    "name": "ipython",
    "version": 3
   },
   "file_extension": ".py",
   "mimetype": "text/x-python",
   "name": "python",
   "nbconvert_exporter": "python",
   "pygments_lexer": "ipython3",
   "version": "3.7.7"
  },
  "orig_nbformat": 4
 },
 "nbformat": 4,
 "nbformat_minor": 2
}
